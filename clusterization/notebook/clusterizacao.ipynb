{
 "cells": [
  {
   "cell_type": "code",
   "execution_count": 1,
   "metadata": {},
   "outputs": [],
   "source": [
    "import pandas as pd\n",
    "import numpy as np\n",
    "import matplotlib.pyplot as plt\n",
    "from sklearn.cluster import KMeans, AffinityPropagation\n",
    "from sklearn.metrics import silhouette_score, calinski_harabasz_score, davies_bouldin_score\n",
    "from time import sleep\n",
    "from IPython import display\n",
    "import warnings\n",
    "warnings.filterwarnings(\"ignore\")"
   ]
  },
  {
   "cell_type": "code",
   "execution_count": 2,
   "metadata": {},
   "outputs": [],
   "source": [
    "X = pd.read_csv('../data/X_dataset.csv')\n",
    "results = []"
   ]
  },
  {
   "cell_type": "code",
   "execution_count": 3,
   "metadata": {},
   "outputs": [
    {
     "name": "stdout",
     "output_type": "stream",
     "text": [
      "Melhor número de clusters: 3\n",
      "Média da Silhouette: 0.23296\n"
     ]
    }
   ],
   "source": [
    "n_clusters=np.arange(2,11,1)\n",
    "\n",
    "best_results = []\n",
    "ss_list = []\n",
    "best_avg_silhouette = -1\n",
    "best_n_clusters = 0\n",
    "for n_clusters in range(2, 11):  \n",
    "    kmeans = KMeans(n_clusters=n_clusters, random_state=0)\n",
    "    labels = kmeans.fit_predict(X)\n",
    "    avg_silhouette = silhouette_score(X, labels)\n",
    "    \n",
    "    if avg_silhouette > best_avg_silhouette:\n",
    "        best_avg_silhouette = round(avg_silhouette,5)\n",
    "        best_n_clusters = n_clusters\n",
    "\n",
    "\n",
    "modelo = 'KMeans'\n",
    "results.append([modelo,best_n_clusters,best_avg_silhouette])\n",
    "\n",
    "\n",
    "print(f\"Melhor número de clusters: {best_n_clusters}\")\n",
    "print(f\"Média da Silhouette: {best_avg_silhouette}\")"
   ]
  },
  {
   "cell_type": "code",
   "execution_count": 4,
   "metadata": {},
   "outputs": [
    {
     "name": "stdout",
     "output_type": "stream",
     "text": [
      "Melhor valor de preferência: -47.0\n",
      "Maior Silhouette: 0.20365750456597356\n",
      "Número de Clusters para a Melhor Preferência: 7\n"
     ]
    }
   ],
   "source": [
    "p = np.linspace(-61, -1, num=61)  # Range maior de valores de preferência\n",
    "num_clusters_list = []\n",
    "ss_list = []\n",
    "model = 'AffinityPropagation'\n",
    "for i in range(len(p)):\n",
    "    model = AffinityPropagation(preference=p[i])\n",
    "    model.fit(X)\n",
    "    labels = model.labels_\n",
    "    \n",
    "    num_clusters = len(set(labels))\n",
    "    if num_clusters > 1:\n",
    "        ss = silhouette_score(X, labels)\n",
    "        ss_list.append(ss)\n",
    "        num_clusters_list.append(num_clusters)\n",
    "        # print(f'Preferência {p[i]}, Número de Clusters: {num_clusters}, Silhouette: {ss}')\n",
    "\n",
    "best_silhouette = max(ss_list)\n",
    "best_p = ss_list.index(best_silhouette)\n",
    "best_preference = p[best_p]\n",
    "best_n_clusters = num_clusters_list[best_p]\n",
    "\n",
    "\n",
    "\n",
    "modelo = 'AffinityPropagation'\n",
    "results.append([modelo,best_n_clusters,best_silhouette])\n",
    "\n",
    "print(f'Melhor valor de preferência: {best_preference}')\n",
    "print(f'Maior Silhouette: {best_silhouette}')\n",
    "print(f'Número de Clusters para a Melhor Preferência: {best_n_clusters}')"
   ]
  },
  {
   "cell_type": "code",
   "execution_count": 5,
   "metadata": {},
   "outputs": [
    {
     "data": {
      "text/html": [
       "<div>\n",
       "<style scoped>\n",
       "    .dataframe tbody tr th:only-of-type {\n",
       "        vertical-align: middle;\n",
       "    }\n",
       "\n",
       "    .dataframe tbody tr th {\n",
       "        vertical-align: top;\n",
       "    }\n",
       "\n",
       "    .dataframe thead th {\n",
       "        text-align: right;\n",
       "    }\n",
       "</style>\n",
       "<table border=\"1\" class=\"dataframe\">\n",
       "  <thead>\n",
       "    <tr style=\"text-align: right;\">\n",
       "      <th></th>\n",
       "      <th>Modelo</th>\n",
       "      <th>Número de Clusters</th>\n",
       "      <th>Média da Silhouette</th>\n",
       "    </tr>\n",
       "  </thead>\n",
       "  <tbody>\n",
       "    <tr>\n",
       "      <th>0</th>\n",
       "      <td>KMeans</td>\n",
       "      <td>3</td>\n",
       "      <td>0.232960</td>\n",
       "    </tr>\n",
       "    <tr>\n",
       "      <th>1</th>\n",
       "      <td>KMeans</td>\n",
       "      <td>7</td>\n",
       "      <td>0.203658</td>\n",
       "    </tr>\n",
       "  </tbody>\n",
       "</table>\n",
       "</div>"
      ],
      "text/plain": [
       "   Modelo  Número de Clusters  Média da Silhouette\n",
       "0  KMeans                   3             0.232960\n",
       "1  KMeans                   7             0.203658"
      ]
     },
     "execution_count": 5,
     "metadata": {},
     "output_type": "execute_result"
    }
   ],
   "source": [
    "df = pd.DataFrame(results, columns=['Modelo','Número de Clusters', 'Média da Silhouette'])\n",
    "df"
   ]
  }
 ],
 "metadata": {
  "kernelspec": {
   "display_name": "Python 3",
   "language": "python",
   "name": "python3"
  },
  "language_info": {
   "codemirror_mode": {
    "name": "ipython",
    "version": 3
   },
   "file_extension": ".py",
   "mimetype": "text/x-python",
   "name": "python",
   "nbconvert_exporter": "python",
   "pygments_lexer": "ipython3",
   "version": "3.10.12"
  },
  "orig_nbformat": 4
 },
 "nbformat": 4,
 "nbformat_minor": 2
}
